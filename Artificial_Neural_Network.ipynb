{
  "nbformat": 4,
  "nbformat_minor": 0,
  "metadata": {
    "colab": {
      "name": "Artificial Neural Network의 사본",
      "provenance": [],
      "collapsed_sections": [],
      "include_colab_link": true
    },
    "kernelspec": {
      "name": "python3",
      "display_name": "Python 3"
    }
  },
  "cells": [
    {
      "cell_type": "markdown",
      "metadata": {
        "id": "view-in-github",
        "colab_type": "text"
      },
      "source": [
        "<a href=\"https://colab.research.google.com/github/soku1203/Artificial-Intelligence/blob/main/Artificial_Neural_Network.ipynb\" target=\"_parent\"><img src=\"https://colab.research.google.com/assets/colab-badge.svg\" alt=\"Open In Colab\"/></a>"
      ]
    },
    {
      "cell_type": "markdown",
      "metadata": {
        "id": "3cbb7fRy-eyr"
      },
      "source": [
        "# Artificial Neural Network"
      ]
    },
    {
      "cell_type": "markdown",
      "metadata": {
        "id": "8sNDnxE2-pwE"
      },
      "source": [
        "### Importing the libraries"
      ]
    },
    {
      "cell_type": "code",
      "source": [
        "import numpy as np\n",
        "import pandas as pd\n",
        "import tensorflow as tf"
      ],
      "metadata": {
        "id": "G9NVAaFSGO6r"
      },
      "execution_count": 28,
      "outputs": []
    },
    {
      "cell_type": "code",
      "source": [
        "tf.__version__"
      ],
      "metadata": {
        "id": "7kzNgDolGlZk",
        "outputId": "04e71f7d-7641-47c4-a571-4f2524202554",
        "colab": {
          "base_uri": "https://localhost:8080/",
          "height": 35
        }
      },
      "execution_count": 29,
      "outputs": [
        {
          "output_type": "execute_result",
          "data": {
            "text/plain": [
              "'2.8.2'"
            ],
            "application/vnd.google.colaboratory.intrinsic+json": {
              "type": "string"
            }
          },
          "metadata": {},
          "execution_count": 29
        }
      ]
    },
    {
      "cell_type": "markdown",
      "metadata": {
        "id": "AG3FQEch-yuA"
      },
      "source": [
        "## Part 1 - Data Preprocessing"
      ]
    },
    {
      "cell_type": "markdown",
      "metadata": {
        "id": "-4zq8Mza_D9O"
      },
      "source": [
        "### Importing the dataset"
      ]
    },
    {
      "cell_type": "code",
      "source": [
        "dataset = pd.read_excel('Folds5x2_pp.xlsx')\n",
        "X = dataset.iloc[:,:-1].values\n",
        "y = dataset.iloc[:, -1].values"
      ],
      "metadata": {
        "id": "yPBpfVq9J8np"
      },
      "execution_count": 30,
      "outputs": []
    },
    {
      "cell_type": "code",
      "source": [
        "print(X,'\\n')\n",
        "print(y)"
      ],
      "metadata": {
        "id": "uANBQ6nqMcYE",
        "outputId": "80e9eee1-180e-46ce-db5f-401f0aa018f6",
        "colab": {
          "base_uri": "https://localhost:8080/"
        }
      },
      "execution_count": 31,
      "outputs": [
        {
          "output_type": "stream",
          "name": "stdout",
          "text": [
            "[[  14.96   41.76 1024.07   73.17]\n",
            " [  25.18   62.96 1020.04   59.08]\n",
            " [   5.11   39.4  1012.16   92.14]\n",
            " ...\n",
            " [  31.32   74.33 1012.92   36.48]\n",
            " [  24.48   69.45 1013.86   62.39]\n",
            " [  21.6    62.52 1017.23   67.87]] \n",
            "\n",
            "[463.26 444.37 488.56 ... 429.57 435.74 453.28]\n"
          ]
        }
      ]
    },
    {
      "cell_type": "markdown",
      "source": [
        ""
      ],
      "metadata": {
        "id": "_0rsLHo2M32f"
      }
    },
    {
      "cell_type": "markdown",
      "metadata": {
        "id": "VC6omXel_Up0"
      },
      "source": [
        "### Splitting the dataset into the Training set and Test set"
      ]
    },
    {
      "cell_type": "code",
      "source": [
        "from sklearn.model_selection import train_test_split\n",
        "X_train, X_test, y_train, y_test = train_test_split(X, y, test_size = 0.2, random_state = 0)"
      ],
      "metadata": {
        "id": "uYzNIxK5NkN6"
      },
      "execution_count": 32,
      "outputs": []
    },
    {
      "cell_type": "markdown",
      "metadata": {
        "id": "_mSLlAT9_eyI"
      },
      "source": [
        "## Part 2 - Building the ANN"
      ]
    },
    {
      "cell_type": "markdown",
      "metadata": {
        "id": "CsBULd_f_wLY"
      },
      "source": [
        "### Initializing the ANN"
      ]
    },
    {
      "cell_type": "code",
      "source": [
        "ann = tf.keras.models.Sequential()"
      ],
      "metadata": {
        "id": "og5hsvzdwptU"
      },
      "execution_count": 33,
      "outputs": []
    },
    {
      "cell_type": "markdown",
      "metadata": {
        "id": "iitAFJS_ABUn"
      },
      "source": [
        "### Adding the input layer and the first hidden layer"
      ]
    },
    {
      "cell_type": "code",
      "source": [
        "ann.add(tf.keras.layers.Dense(units = 6 ,activation = 'relu'))"
      ],
      "metadata": {
        "id": "L4oJeCNJyJX3"
      },
      "execution_count": 34,
      "outputs": []
    },
    {
      "cell_type": "markdown",
      "metadata": {
        "id": "-lb4kK_wAKbs"
      },
      "source": [
        "### Adding the second hidden layer"
      ]
    },
    {
      "cell_type": "code",
      "source": [
        "ann.add(tf.keras.layers.Dense(units = 6 ,activation = 'relu'))"
      ],
      "metadata": {
        "id": "pPSf48krzqiY"
      },
      "execution_count": 35,
      "outputs": []
    },
    {
      "cell_type": "markdown",
      "metadata": {
        "id": "jwMOmKb3AdBY"
      },
      "source": [
        "### Adding the output layer"
      ]
    },
    {
      "cell_type": "code",
      "source": [
        "ann.add(tf.keras.layers.Dense(units = 1))"
      ],
      "metadata": {
        "id": "u1ClhKoGzvUP"
      },
      "execution_count": 36,
      "outputs": []
    },
    {
      "cell_type": "markdown",
      "metadata": {
        "id": "fq7e4fF6A1yy"
      },
      "source": [
        "## Part 3 - Training the ANN"
      ]
    },
    {
      "cell_type": "markdown",
      "metadata": {
        "id": "qDeylAs2An25"
      },
      "source": [
        "### Compiling the ANN"
      ]
    },
    {
      "cell_type": "code",
      "source": [
        "ann.compile(optimizer = 'adam', loss = 'mean_squared_error')"
      ],
      "metadata": {
        "id": "UDS18Yv_0-yV"
      },
      "execution_count": 37,
      "outputs": []
    },
    {
      "cell_type": "markdown",
      "metadata": {
        "id": "YjVuiybYOo7r"
      },
      "source": [
        "### Training the ANN model on the Training set"
      ]
    },
    {
      "cell_type": "code",
      "source": [
        "ann.fit(X_train , y_train, batch_size = 32, epochs = 100)"
      ],
      "metadata": {
        "id": "gUvG7ZGR1nuw",
        "outputId": "926dcd6d-af99-4593-feb7-6e771e43944b",
        "colab": {
          "base_uri": "https://localhost:8080/"
        }
      },
      "execution_count": 38,
      "outputs": [
        {
          "output_type": "stream",
          "name": "stdout",
          "text": [
            "Epoch 1/100\n",
            "240/240 [==============================] - 1s 2ms/step - loss: 47981.6680\n",
            "Epoch 2/100\n",
            "240/240 [==============================] - 0s 2ms/step - loss: 155.2766\n",
            "Epoch 3/100\n",
            "240/240 [==============================] - 0s 2ms/step - loss: 145.2449\n",
            "Epoch 4/100\n",
            "240/240 [==============================] - 0s 2ms/step - loss: 139.8510\n",
            "Epoch 5/100\n",
            "240/240 [==============================] - 0s 2ms/step - loss: 133.5107\n",
            "Epoch 6/100\n",
            "240/240 [==============================] - 0s 2ms/step - loss: 126.4242\n",
            "Epoch 7/100\n",
            "240/240 [==============================] - 0s 2ms/step - loss: 118.8283\n",
            "Epoch 8/100\n",
            "240/240 [==============================] - 0s 1ms/step - loss: 110.8405\n",
            "Epoch 9/100\n",
            "240/240 [==============================] - 0s 1ms/step - loss: 102.8041\n",
            "Epoch 10/100\n",
            "240/240 [==============================] - 0s 1ms/step - loss: 94.7824\n",
            "Epoch 11/100\n",
            "240/240 [==============================] - 0s 2ms/step - loss: 86.8165\n",
            "Epoch 12/100\n",
            "240/240 [==============================] - 0s 2ms/step - loss: 79.5592\n",
            "Epoch 13/100\n",
            "240/240 [==============================] - 0s 1ms/step - loss: 72.8348\n",
            "Epoch 14/100\n",
            "240/240 [==============================] - 0s 1ms/step - loss: 66.7238\n",
            "Epoch 15/100\n",
            "240/240 [==============================] - 0s 1ms/step - loss: 61.6199\n",
            "Epoch 16/100\n",
            "240/240 [==============================] - 0s 2ms/step - loss: 57.1581\n",
            "Epoch 17/100\n",
            "240/240 [==============================] - 0s 2ms/step - loss: 53.9465\n",
            "Epoch 18/100\n",
            "240/240 [==============================] - 0s 2ms/step - loss: 51.2529\n",
            "Epoch 19/100\n",
            "240/240 [==============================] - 0s 2ms/step - loss: 49.0900\n",
            "Epoch 20/100\n",
            "240/240 [==============================] - 0s 2ms/step - loss: 47.4161\n",
            "Epoch 21/100\n",
            "240/240 [==============================] - 0s 1ms/step - loss: 45.9405\n",
            "Epoch 22/100\n",
            "240/240 [==============================] - 0s 1ms/step - loss: 44.7674\n",
            "Epoch 23/100\n",
            "240/240 [==============================] - 0s 1ms/step - loss: 43.6816\n",
            "Epoch 24/100\n",
            "240/240 [==============================] - 0s 2ms/step - loss: 42.6669\n",
            "Epoch 25/100\n",
            "240/240 [==============================] - 0s 2ms/step - loss: 41.7997\n",
            "Epoch 26/100\n",
            "240/240 [==============================] - 0s 2ms/step - loss: 40.6792\n",
            "Epoch 27/100\n",
            "240/240 [==============================] - 0s 2ms/step - loss: 39.7475\n",
            "Epoch 28/100\n",
            "240/240 [==============================] - 0s 2ms/step - loss: 38.7162\n",
            "Epoch 29/100\n",
            "240/240 [==============================] - 0s 2ms/step - loss: 37.4445\n",
            "Epoch 30/100\n",
            "240/240 [==============================] - 0s 2ms/step - loss: 37.2069\n",
            "Epoch 31/100\n",
            "240/240 [==============================] - 0s 2ms/step - loss: 36.1555\n",
            "Epoch 32/100\n",
            "240/240 [==============================] - 0s 2ms/step - loss: 34.9692\n",
            "Epoch 33/100\n",
            "240/240 [==============================] - 0s 2ms/step - loss: 34.3404\n",
            "Epoch 34/100\n",
            "240/240 [==============================] - 0s 2ms/step - loss: 32.9504\n",
            "Epoch 35/100\n",
            "240/240 [==============================] - 0s 2ms/step - loss: 32.3744\n",
            "Epoch 36/100\n",
            "240/240 [==============================] - 0s 1ms/step - loss: 31.8791\n",
            "Epoch 37/100\n",
            "240/240 [==============================] - 0s 1ms/step - loss: 31.0656\n",
            "Epoch 38/100\n",
            "240/240 [==============================] - 0s 1ms/step - loss: 30.9263\n",
            "Epoch 39/100\n",
            "240/240 [==============================] - 0s 1ms/step - loss: 30.0612\n",
            "Epoch 40/100\n",
            "240/240 [==============================] - 0s 1ms/step - loss: 29.6912\n",
            "Epoch 41/100\n",
            "240/240 [==============================] - 0s 1ms/step - loss: 29.2458\n",
            "Epoch 42/100\n",
            "240/240 [==============================] - 0s 1ms/step - loss: 29.2062\n",
            "Epoch 43/100\n",
            "240/240 [==============================] - 0s 1ms/step - loss: 28.5508\n",
            "Epoch 44/100\n",
            "240/240 [==============================] - 0s 1ms/step - loss: 28.2514\n",
            "Epoch 45/100\n",
            "240/240 [==============================] - 0s 1ms/step - loss: 28.2438\n",
            "Epoch 46/100\n",
            "240/240 [==============================] - 0s 1ms/step - loss: 27.9229\n",
            "Epoch 47/100\n",
            "240/240 [==============================] - 0s 1ms/step - loss: 27.6385\n",
            "Epoch 48/100\n",
            "240/240 [==============================] - 0s 2ms/step - loss: 27.2852\n",
            "Epoch 49/100\n",
            "240/240 [==============================] - 1s 2ms/step - loss: 27.4687\n",
            "Epoch 50/100\n",
            "240/240 [==============================] - 1s 2ms/step - loss: 27.3234\n",
            "Epoch 51/100\n",
            "240/240 [==============================] - 0s 2ms/step - loss: 26.8632\n",
            "Epoch 52/100\n",
            "240/240 [==============================] - 0s 2ms/step - loss: 27.3372\n",
            "Epoch 53/100\n",
            "240/240 [==============================] - 0s 2ms/step - loss: 26.9036\n",
            "Epoch 54/100\n",
            "240/240 [==============================] - 0s 1ms/step - loss: 27.2693\n",
            "Epoch 55/100\n",
            "240/240 [==============================] - 0s 1ms/step - loss: 27.3236\n",
            "Epoch 56/100\n",
            "240/240 [==============================] - 0s 1ms/step - loss: 27.2641\n",
            "Epoch 57/100\n",
            "240/240 [==============================] - 0s 2ms/step - loss: 27.1995\n",
            "Epoch 58/100\n",
            "240/240 [==============================] - 1s 2ms/step - loss: 27.5462\n",
            "Epoch 59/100\n",
            "240/240 [==============================] - 0s 2ms/step - loss: 26.5199\n",
            "Epoch 60/100\n",
            "240/240 [==============================] - 0s 2ms/step - loss: 26.9816\n",
            "Epoch 61/100\n",
            "240/240 [==============================] - 0s 2ms/step - loss: 26.6585\n",
            "Epoch 62/100\n",
            "240/240 [==============================] - 0s 2ms/step - loss: 26.9232\n",
            "Epoch 63/100\n",
            "240/240 [==============================] - 0s 2ms/step - loss: 26.4822\n",
            "Epoch 64/100\n",
            "240/240 [==============================] - 0s 2ms/step - loss: 26.6060\n",
            "Epoch 65/100\n",
            "240/240 [==============================] - 0s 2ms/step - loss: 26.5623\n",
            "Epoch 66/100\n",
            "240/240 [==============================] - 0s 2ms/step - loss: 26.6863\n",
            "Epoch 67/100\n",
            "240/240 [==============================] - 0s 2ms/step - loss: 26.7190\n",
            "Epoch 68/100\n",
            "240/240 [==============================] - 0s 2ms/step - loss: 26.6716\n",
            "Epoch 69/100\n",
            "240/240 [==============================] - 0s 1ms/step - loss: 26.3986\n",
            "Epoch 70/100\n",
            "240/240 [==============================] - 0s 1ms/step - loss: 26.8950\n",
            "Epoch 71/100\n",
            "240/240 [==============================] - 0s 1ms/step - loss: 26.9802\n",
            "Epoch 72/100\n",
            "240/240 [==============================] - 0s 1ms/step - loss: 26.2771\n",
            "Epoch 73/100\n",
            "240/240 [==============================] - 0s 1ms/step - loss: 26.3903\n",
            "Epoch 74/100\n",
            "240/240 [==============================] - 0s 1ms/step - loss: 26.6410\n",
            "Epoch 75/100\n",
            "240/240 [==============================] - 0s 2ms/step - loss: 26.8741\n",
            "Epoch 76/100\n",
            "240/240 [==============================] - 0s 2ms/step - loss: 26.8754\n",
            "Epoch 77/100\n",
            "240/240 [==============================] - 0s 2ms/step - loss: 26.7478\n",
            "Epoch 78/100\n",
            "240/240 [==============================] - 0s 2ms/step - loss: 26.4971\n",
            "Epoch 79/100\n",
            "240/240 [==============================] - 0s 1ms/step - loss: 27.4807\n",
            "Epoch 80/100\n",
            "240/240 [==============================] - 0s 1ms/step - loss: 26.6786\n",
            "Epoch 81/100\n",
            "240/240 [==============================] - 0s 1ms/step - loss: 26.2762\n",
            "Epoch 82/100\n",
            "240/240 [==============================] - 0s 1ms/step - loss: 26.5180\n",
            "Epoch 83/100\n",
            "240/240 [==============================] - 0s 1ms/step - loss: 27.1465\n",
            "Epoch 84/100\n",
            "240/240 [==============================] - 0s 1ms/step - loss: 26.6039\n",
            "Epoch 85/100\n",
            "240/240 [==============================] - 0s 1ms/step - loss: 26.4729\n",
            "Epoch 86/100\n",
            "240/240 [==============================] - 0s 1ms/step - loss: 26.3413\n",
            "Epoch 87/100\n",
            "240/240 [==============================] - 0s 1ms/step - loss: 27.1111\n",
            "Epoch 88/100\n",
            "240/240 [==============================] - 0s 2ms/step - loss: 26.4424\n",
            "Epoch 89/100\n",
            "240/240 [==============================] - 0s 2ms/step - loss: 26.8050\n",
            "Epoch 90/100\n",
            "240/240 [==============================] - 0s 2ms/step - loss: 26.5937\n",
            "Epoch 91/100\n",
            "240/240 [==============================] - 0s 1ms/step - loss: 26.2599\n",
            "Epoch 92/100\n",
            "240/240 [==============================] - 0s 1ms/step - loss: 26.7494\n",
            "Epoch 93/100\n",
            "240/240 [==============================] - 0s 2ms/step - loss: 26.5111\n",
            "Epoch 94/100\n",
            "240/240 [==============================] - 1s 2ms/step - loss: 26.4956\n",
            "Epoch 95/100\n",
            "240/240 [==============================] - 0s 2ms/step - loss: 26.6875\n",
            "Epoch 96/100\n",
            "240/240 [==============================] - 0s 2ms/step - loss: 27.0698\n",
            "Epoch 97/100\n",
            "240/240 [==============================] - 0s 2ms/step - loss: 26.4567\n",
            "Epoch 98/100\n",
            "240/240 [==============================] - 0s 2ms/step - loss: 26.3684\n",
            "Epoch 99/100\n",
            "240/240 [==============================] - 0s 2ms/step - loss: 26.4136\n",
            "Epoch 100/100\n",
            "240/240 [==============================] - 0s 2ms/step - loss: 26.7551\n"
          ]
        },
        {
          "output_type": "execute_result",
          "data": {
            "text/plain": [
              "<keras.callbacks.History at 0x7f4ee7bc2390>"
            ]
          },
          "metadata": {},
          "execution_count": 38
        }
      ]
    },
    {
      "cell_type": "markdown",
      "metadata": {
        "id": "0H0zKKNEBLD5"
      },
      "source": [
        "### Predicting the results of the Test set"
      ]
    },
    {
      "cell_type": "code",
      "source": [
        "y_pred = ann.predict(X_test)\n",
        "np.set_printoptions(precision=2)\n",
        "print(np.concatenate((y_pred.reshape(len(y_pred),1), y_test.reshape(len(y_test), 1)), 1))"
      ],
      "metadata": {
        "id": "1RnSZ7Go31KQ",
        "outputId": "d9e6e432-5aed-4932-9382-711b8344bdd7",
        "colab": {
          "base_uri": "https://localhost:8080/"
        }
      },
      "execution_count": 39,
      "outputs": [
        {
          "output_type": "stream",
          "name": "stdout",
          "text": [
            "[[431.09 431.23]\n",
            " [462.2  460.01]\n",
            " [465.71 461.14]\n",
            " ...\n",
            " [472.96 473.26]\n",
            " [439.7  438.  ]\n",
            " [458.95 463.28]]\n"
          ]
        }
      ]
    }
  ]
}